{
 "cells": [
  {
   "cell_type": "code",
   "execution_count": null,
   "id": "6fd7ea46",
   "metadata": {},
   "outputs": [],
   "source": [
    "%%sql select count(UserId)\n",
    "from Users;"
   ]
  },
  {
   "cell_type": "code",
   "execution_count": null,
   "id": "14021ba0",
   "metadata": {},
   "outputs": [],
   "source": [
    "%%sql select count(UserId)\n",
    "from Users\n",
    "where location = \"New York\";"
   ]
  },
  {
   "cell_type": "code",
   "execution_count": null,
   "id": "b14ccd4d",
   "metadata": {},
   "outputs": [],
   "source": [
    "%%sql with numCats as (select distinct itemID, count(Description) as ct,\n",
    "                       from Categories\n",
    "                       group by itemID)\n",
    "select count(b.BidTime)\n",
    "from Bids b, numCats n\n",
    "where b.itemID = n.itemId\n",
    "and n.ct = 4;"
   ]
  },
  {
   "cell_type": "code",
   "execution_count": null,
   "id": "2c864068",
   "metadata": {},
   "outputs": [],
   "source": [
    "%%sql with m as (select max(amount)\n",
    "                from Bids_on)\n",
    "select ItemID\n",
    "from Bids b\n",
    "where amount = m;"
   ]
  },
  {
   "cell_type": "code",
   "execution_count": null,
   "id": "31558d5c",
   "metadata": {},
   "outputs": [],
   "source": [
    "%%sql select UserID,\n",
    "from Users\n",
    "where rating > 1000;"
   ]
  },
  {
   "cell_type": "code",
   "execution_count": null,
   "id": "81369f8a",
   "metadata": {},
   "outputs": [],
   "source": [
    "%%sql select count(i.SellerId)\n",
    "from Items i, Bids b\n",
    "where i.SellerId = b.UserID;"
   ]
  },
  {
   "cell_type": "code",
   "execution_count": null,
   "id": "a0dd227e",
   "metadata": {},
   "outputs": [],
   "source": [
    "%%sql select count(distinct c.Description)\n",
    "from Categories c, Bids b\n",
    "where b.amount > 100;"
   ]
  }
 ],
 "metadata": {
  "kernelspec": {
   "display_name": "Python 3 (ipykernel)",
   "language": "python",
   "name": "python3"
  },
  "language_info": {
   "codemirror_mode": {
    "name": "ipython",
    "version": 3
   },
   "file_extension": ".py",
   "mimetype": "text/x-python",
   "name": "python",
   "nbconvert_exporter": "python",
   "pygments_lexer": "ipython3",
   "version": "3.7.0"
  }
 },
 "nbformat": 4,
 "nbformat_minor": 5
}
